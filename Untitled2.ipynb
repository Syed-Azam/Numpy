{
 "cells": [
  {
   "cell_type": "code",
   "execution_count": 14,
   "metadata": {},
   "outputs": [],
   "source": [
    "import pandas as pd\n",
    "import numpy as np\n",
    "\n",
    "apples = pd.Series([3,2,0,1])\n",
    "oranges = pd.Series([3,4,7,8])\n",
    "\n",
    "\n"
   ]
  },
  {
   "cell_type": "code",
   "execution_count": 15,
   "metadata": {
    "scrolled": true
   },
   "outputs": [
    {
     "name": "stdout",
     "output_type": "stream",
     "text": [
      "      state  year  pop\n",
      "1st    ohio  2000  1.5\n",
      "2nd    Ohio  2001  1.7\n",
      "3rd    Ohio  2002  3.6\n",
      "4th  Naveda  2001  2.4\n",
      "5th  Naveda  2002  2.9\n"
     ]
    }
   ],
   "source": [
    "state = ['ohio', 'Ohio', 'Ohio', 'Naveda', 'Naveda', 'Naveda']\n",
    "data = {'state': state ,\n",
    "        'year' : [2000,2001,2002,2001,2002,2003],\n",
    "        'pop'  : [1.5,1.7,3.6, 2.4, 2.9, 3.2]}\n",
    "state_pop_df = pd.DataFrame(data\n",
    "                    , index = ['1st', '2nd', '3rd',\n",
    "                               '4th', '5th', '6th'])\n",
    "print(state_pop_df.head())\n"
   ]
  },
  {
   "cell_type": "code",
   "execution_count": 10,
   "metadata": {},
   "outputs": [],
   "source": [
    "state_pop_df['debt'] = 16.5"
   ]
  },
  {
   "cell_type": "code",
   "execution_count": 12,
   "metadata": {
    "scrolled": true
   },
   "outputs": [
    {
     "data": {
      "text/html": [
       "<div>\n",
       "<style scoped>\n",
       "    .dataframe tbody tr th:only-of-type {\n",
       "        vertical-align: middle;\n",
       "    }\n",
       "\n",
       "    .dataframe tbody tr th {\n",
       "        vertical-align: top;\n",
       "    }\n",
       "\n",
       "    .dataframe thead th {\n",
       "        text-align: right;\n",
       "    }\n",
       "</style>\n",
       "<table border=\"1\" class=\"dataframe\">\n",
       "  <thead>\n",
       "    <tr style=\"text-align: right;\">\n",
       "      <th></th>\n",
       "      <th>state</th>\n",
       "      <th>year</th>\n",
       "      <th>pop</th>\n",
       "      <th>debt</th>\n",
       "    </tr>\n",
       "  </thead>\n",
       "  <tbody>\n",
       "    <tr>\n",
       "      <td>1st</td>\n",
       "      <td>ohio</td>\n",
       "      <td>2000</td>\n",
       "      <td>1.5</td>\n",
       "      <td>16.5</td>\n",
       "    </tr>\n",
       "    <tr>\n",
       "      <td>2nd</td>\n",
       "      <td>Ohio</td>\n",
       "      <td>2001</td>\n",
       "      <td>1.7</td>\n",
       "      <td>16.5</td>\n",
       "    </tr>\n",
       "    <tr>\n",
       "      <td>3rd</td>\n",
       "      <td>Ohio</td>\n",
       "      <td>2002</td>\n",
       "      <td>3.6</td>\n",
       "      <td>16.5</td>\n",
       "    </tr>\n",
       "    <tr>\n",
       "      <td>4th</td>\n",
       "      <td>Naveda</td>\n",
       "      <td>2001</td>\n",
       "      <td>2.4</td>\n",
       "      <td>16.5</td>\n",
       "    </tr>\n",
       "    <tr>\n",
       "      <td>5th</td>\n",
       "      <td>Naveda</td>\n",
       "      <td>2002</td>\n",
       "      <td>2.9</td>\n",
       "      <td>16.5</td>\n",
       "    </tr>\n",
       "    <tr>\n",
       "      <td>6th</td>\n",
       "      <td>Naveda</td>\n",
       "      <td>2003</td>\n",
       "      <td>3.2</td>\n",
       "      <td>16.5</td>\n",
       "    </tr>\n",
       "  </tbody>\n",
       "</table>\n",
       "</div>"
      ],
      "text/plain": [
       "      state  year  pop  debt\n",
       "1st    ohio  2000  1.5  16.5\n",
       "2nd    Ohio  2001  1.7  16.5\n",
       "3rd    Ohio  2002  3.6  16.5\n",
       "4th  Naveda  2001  2.4  16.5\n",
       "5th  Naveda  2002  2.9  16.5\n",
       "6th  Naveda  2003  3.2  16.5"
      ]
     },
     "execution_count": 12,
     "metadata": {},
     "output_type": "execute_result"
    }
   ],
   "source": [
    "state_pop_df"
   ]
  },
  {
   "cell_type": "code",
   "execution_count": 17,
   "metadata": {},
   "outputs": [
    {
     "data": {
      "text/html": [
       "<div>\n",
       "<style scoped>\n",
       "    .dataframe tbody tr th:only-of-type {\n",
       "        vertical-align: middle;\n",
       "    }\n",
       "\n",
       "    .dataframe tbody tr th {\n",
       "        vertical-align: top;\n",
       "    }\n",
       "\n",
       "    .dataframe thead th {\n",
       "        text-align: right;\n",
       "    }\n",
       "</style>\n",
       "<table border=\"1\" class=\"dataframe\">\n",
       "  <thead>\n",
       "    <tr style=\"text-align: right;\">\n",
       "      <th></th>\n",
       "      <th>state</th>\n",
       "      <th>year</th>\n",
       "      <th>pop</th>\n",
       "      <th>debt</th>\n",
       "    </tr>\n",
       "  </thead>\n",
       "  <tbody>\n",
       "    <tr>\n",
       "      <td>1st</td>\n",
       "      <td>ohio</td>\n",
       "      <td>2000</td>\n",
       "      <td>1.5</td>\n",
       "      <td>0</td>\n",
       "    </tr>\n",
       "    <tr>\n",
       "      <td>2nd</td>\n",
       "      <td>Ohio</td>\n",
       "      <td>2001</td>\n",
       "      <td>1.7</td>\n",
       "      <td>1</td>\n",
       "    </tr>\n",
       "    <tr>\n",
       "      <td>3rd</td>\n",
       "      <td>Ohio</td>\n",
       "      <td>2002</td>\n",
       "      <td>3.6</td>\n",
       "      <td>2</td>\n",
       "    </tr>\n",
       "    <tr>\n",
       "      <td>4th</td>\n",
       "      <td>Naveda</td>\n",
       "      <td>2001</td>\n",
       "      <td>2.4</td>\n",
       "      <td>3</td>\n",
       "    </tr>\n",
       "    <tr>\n",
       "      <td>5th</td>\n",
       "      <td>Naveda</td>\n",
       "      <td>2002</td>\n",
       "      <td>2.9</td>\n",
       "      <td>4</td>\n",
       "    </tr>\n",
       "    <tr>\n",
       "      <td>6th</td>\n",
       "      <td>Naveda</td>\n",
       "      <td>2003</td>\n",
       "      <td>3.2</td>\n",
       "      <td>5</td>\n",
       "    </tr>\n",
       "  </tbody>\n",
       "</table>\n",
       "</div>"
      ],
      "text/plain": [
       "      state  year  pop  debt\n",
       "1st    ohio  2000  1.5     0\n",
       "2nd    Ohio  2001  1.7     1\n",
       "3rd    Ohio  2002  3.6     2\n",
       "4th  Naveda  2001  2.4     3\n",
       "5th  Naveda  2002  2.9     4\n",
       "6th  Naveda  2003  3.2     5"
      ]
     },
     "execution_count": 17,
     "metadata": {},
     "output_type": "execute_result"
    }
   ],
   "source": [
    "ln = len(state_pop_df)\n",
    "rng = np.arange(ln)\n",
    "state_pop_df['debt'] = rng\n",
    "state_pop_df"
   ]
  },
  {
   "cell_type": "code",
   "execution_count": 27,
   "metadata": {},
   "outputs": [
    {
     "name": "stdout",
     "output_type": "stream",
     "text": [
      "0      blue\n",
      "1       NaN\n",
      "2       NaN\n",
      "3    purple\n",
      "4       NaN\n",
      "5       NaN\n",
      "6    yellow\n",
      "7       NaN\n",
      "8       NaN\n",
      "dtype: object\n"
     ]
    }
   ],
   "source": [
    "obj3 = pd.Series(['blue', 'purple', 'yellow'], index=[0, 3, 6])\n",
    "# obj3\n",
    "# print( obj3 )\n",
    "# might create a new rows\n",
    "obj3 =obj3.reindex(range(9) )\n",
    "print(obj3)\n",
    "# obj3 =obj3.reindex(range(9), method='ffill' )\n",
    "# print(obj3)\n",
    "# obj3 =obj3.reindex(range(2,11), method=\"bfill\")\n",
    "# pd.DataFrame(obj3 , columns= ['number'])"
   ]
  },
  {
   "cell_type": "code",
   "execution_count": 37,
   "metadata": {},
   "outputs": [
    {
     "data": {
      "text/html": [
       "<div>\n",
       "<style scoped>\n",
       "    .dataframe tbody tr th:only-of-type {\n",
       "        vertical-align: middle;\n",
       "    }\n",
       "\n",
       "    .dataframe tbody tr th {\n",
       "        vertical-align: top;\n",
       "    }\n",
       "\n",
       "    .dataframe thead th {\n",
       "        text-align: right;\n",
       "    }\n",
       "</style>\n",
       "<table border=\"1\" class=\"dataframe\">\n",
       "  <thead>\n",
       "    <tr style=\"text-align: right;\">\n",
       "      <th></th>\n",
       "      <th>Ohio</th>\n",
       "      <th>Texas</th>\n",
       "      <th>California</th>\n",
       "    </tr>\n",
       "  </thead>\n",
       "  <tbody>\n",
       "    <tr>\n",
       "      <td>a</td>\n",
       "      <td>0</td>\n",
       "      <td>1</td>\n",
       "      <td>2</td>\n",
       "    </tr>\n",
       "    <tr>\n",
       "      <td>b</td>\n",
       "      <td>0</td>\n",
       "      <td>1</td>\n",
       "      <td>2</td>\n",
       "    </tr>\n",
       "    <tr>\n",
       "      <td>c</td>\n",
       "      <td>3</td>\n",
       "      <td>4</td>\n",
       "      <td>5</td>\n",
       "    </tr>\n",
       "    <tr>\n",
       "      <td>d</td>\n",
       "      <td>6</td>\n",
       "      <td>7</td>\n",
       "      <td>8</td>\n",
       "    </tr>\n",
       "  </tbody>\n",
       "</table>\n",
       "</div>"
      ],
      "text/plain": [
       "   Ohio  Texas  California\n",
       "a     0      1           2\n",
       "b     0      1           2\n",
       "c     3      4           5\n",
       "d     6      7           8"
      ]
     },
     "execution_count": 37,
     "metadata": {},
     "output_type": "execute_result"
    }
   ],
   "source": [
    "states = pd.DataFrame(np.arange(9).reshape((3, 3) ),\n",
    "index=['b', 'c', 'd'], columns=['Ohio', 'Texas', 'California'])\n",
    "\n",
    "states\n",
    "# for your own working, run following statement without ffill\n",
    "states = states.reindex(['a', 'b', 'c', 'd'],method = 'bfill')\n",
    "# states = states.reindex(['a', 'b', 'c', 'd'])\n",
    "\n",
    "states"
   ]
  },
  {
   "cell_type": "code",
   "execution_count": 40,
   "metadata": {},
   "outputs": [
    {
     "name": "stdout",
     "output_type": "stream",
     "text": [
      "          one  two  three  four\n",
      "Ohio        0    1      2     3\n",
      "Colorado    4    5      6     7\n",
      "Utah        8    9     10    11\n",
      "New York   12   13     14    15 \n",
      "\n",
      "          one  two  three  four\n",
      "Ohio        0    1      2     3\n",
      "Colorado    4    5      6     7\n",
      "Utah        8    9     10    11\n",
      "New York   12   13     14    15\n"
     ]
    }
   ],
   "source": [
    "data_df = pd.DataFrame(np.arange(16).reshape((4, 4)), \n",
    "             index=['Ohio', 'Colorado', 'Utah', 'New York'],\n",
    "             columns=['one', 'two', 'three', 'four'])\n",
    "\n",
    "print(data_df, \"\\n\")\n",
    "\n",
    "# dataframe.drop method would return a new dataframe without \n",
    "# having deleted rows. so store its into to dataframe variable\n",
    "# or use inplace=True while droping rows or column\n",
    "\n",
    "#data_df.drop(['Colorado', 'Ohio'], inplace =True)\n",
    "#print(data_df)\n",
    "\n",
    "#You can drop values from the columns by passing axis=1 \n",
    "#or axis='columns' :\n",
    "# data_df = data_df.drop('two', axis=1)\n",
    "# data_df.drop('two', axis=1, inplace = True)\n",
    "data_df.drop('two', axis=1)\n",
    "print(data_df)\n",
    "\n",
    "# if i want to remove a row for example 'Colorado', \n",
    "# how can we do that"
   ]
  },
  {
   "cell_type": "code",
   "execution_count": null,
   "metadata": {},
   "outputs": [],
   "source": []
  }
 ],
 "metadata": {
  "kernelspec": {
   "display_name": "Python 3",
   "language": "python",
   "name": "python3"
  },
  "language_info": {
   "codemirror_mode": {
    "name": "ipython",
    "version": 3
   },
   "file_extension": ".py",
   "mimetype": "text/x-python",
   "name": "python",
   "nbconvert_exporter": "python",
   "pygments_lexer": "ipython3",
   "version": "3.7.3"
  }
 },
 "nbformat": 4,
 "nbformat_minor": 2
}
