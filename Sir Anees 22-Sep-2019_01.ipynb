{
 "cells": [
  {
   "cell_type": "markdown",
   "metadata": {},
   "source": [
    "# Review Text Analysis"
   ]
  },
  {
   "cell_type": "code",
   "execution_count": 27,
   "metadata": {},
   "outputs": [
    {
     "name": "stdout",
     "output_type": "stream",
     "text": [
      "[0. 0. 0. 0. 0. 0. 0. 0.]\n",
      "<class 'numpy.ndarray'>\n",
      "[[1. 1. 1. 1. 1. 1. 1. 1.]\n",
      " [1. 1. 1. 1. 1. 1. 1. 1.]]\n",
      "<class 'numpy.ndarray'>\n",
      "[3 4 5 6 7 8 9]\n",
      "<class 'numpy.ndarray'>\n",
      "[2.41907520e-312 2.33419537e-312 8.48798317e-313 2.37663529e-312\n",
      " 2.35541533e-312 2.14321575e-312 8.48798317e-313 8.70018275e-313\n",
      " 1.18831764e-312 8.70018274e-313]\n",
      "<class 'numpy.ndarray'>\n"
     ]
    }
   ],
   "source": [
    "import numpy as np\n",
    "\n",
    "a = np.zeros(8)\n",
    "print(a)\n",
    "print(type(a))\n",
    "\n",
    "b = np.ones((2,8))\n",
    "print(b)\n",
    "print(type(b))\n",
    "\n",
    "c = np.arange(3,10)\n",
    "print(c)\n",
    "print(type(c))\n",
    "\n",
    "d = np.empty(10)\n",
    "print(d)\n",
    "print(type(d))\n"
   ]
  },
  {
   "cell_type": "code",
   "execution_count": null,
   "metadata": {},
   "outputs": [],
   "source": []
  }
 ],
 "metadata": {
  "kernelspec": {
   "display_name": "Python 3",
   "language": "python",
   "name": "python3"
  },
  "language_info": {
   "codemirror_mode": {
    "name": "ipython",
    "version": 3
   },
   "file_extension": ".py",
   "mimetype": "text/x-python",
   "name": "python",
   "nbconvert_exporter": "python",
   "pygments_lexer": "ipython3",
   "version": "3.7.3"
  }
 },
 "nbformat": 4,
 "nbformat_minor": 2
}
