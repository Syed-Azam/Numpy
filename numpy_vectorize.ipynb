{
 "cells": [
  {
   "cell_type": "code",
   "execution_count": 1,
   "metadata": {},
   "outputs": [
    {
     "name": "stdout",
     "output_type": "stream",
     "text": [
      "testing\n",
      "['Here' 'are' 'some' 'of' 'the' 'things' 'you’ll' 'find' 'in' 'NumPy:']\n",
      "['Here' 'are' 'some' 'of' 'the' 'find' 'in']\n",
      "\n"
     ]
    }
   ],
   "source": [
    "import numpy as np\n",
    "text = \"Here are some of the things you’ll find in NumPy:\"\n",
    "l = text.split(\" \")\n",
    "arr = np.array(text.split(\" \"))\n",
    "prn = print\n",
    "prn(\"testing\")\n",
    "print(arr)\n",
    "lnth = np.vectorize(len)\n",
    "print(arr[lnth(arr)<5])\n",
    "#print(arr[( np.vectorize(len)) (arr) <5]) \n",
    "print()"
   ]
  },
  {
   "cell_type": "code",
   "execution_count": null,
   "metadata": {},
   "outputs": [],
   "source": []
  }
 ],
 "metadata": {
  "kernelspec": {
   "display_name": "Python 3",
   "language": "python",
   "name": "python3"
  },
  "language_info": {
   "codemirror_mode": {
    "name": "ipython",
    "version": 3
   },
   "file_extension": ".py",
   "mimetype": "text/x-python",
   "name": "python",
   "nbconvert_exporter": "python",
   "pygments_lexer": "ipython3",
   "version": "3.7.3"
  }
 },
 "nbformat": 4,
 "nbformat_minor": 2
}
