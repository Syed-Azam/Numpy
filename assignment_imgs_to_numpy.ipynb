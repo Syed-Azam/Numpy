{
 "cells": [
  {
   "cell_type": "code",
   "execution_count": 2,
   "metadata": {},
   "outputs": [
    {
     "name": "stdout",
     "output_type": "stream",
     "text": [
      "(20, 200, 200, 3)\n"
     ]
    }
   ],
   "source": [
    "# PIAIC Numpy Assignment by Sir Anees\n",
    "# Resize multiple images and store in a single 4D array\n",
    "# This program will scan all jpg files in photos folder\n",
    "# then resize & save in photos200 folder & then store in 4D numpy array \n",
    "# Coding : Syed Azam Hassan\n",
    "\n",
    "import numpy as np\n",
    "import os\n",
    "from PIL import Image\n",
    "import matplotlib.pylab as plt\n",
    "\n",
    "path = \"photos\"\n",
    "if not os.path.exists(path+\"200\"): # create a new folder if not already exist\n",
    "    os.mkdir(path+\"200\")\n",
    "\n",
    "f = [f for f in os.listdir(\"photos\") if f[-4:]==\".jpg\"] # filter only jpg\n",
    "\n",
    "for p in f:\n",
    "    image = Image.open(path+\"\\\\\"+p)\n",
    "    image = image.resize((200, 200))\n",
    "    image.save(path+\"200\\\\\"+p, \"JPEG\")\n",
    "\n",
    "im = np.array([plt.imread(path+\"200\\\\\"+p) for p in f])\n",
    "print(im.shape)"
   ]
  },
  {
   "cell_type": "code",
   "execution_count": null,
   "metadata": {},
   "outputs": [],
   "source": []
  }
 ],
 "metadata": {
  "kernelspec": {
   "display_name": "Python 3",
   "language": "python",
   "name": "python3"
  },
  "language_info": {
   "codemirror_mode": {
    "name": "ipython",
    "version": 3
   },
   "file_extension": ".py",
   "mimetype": "text/x-python",
   "name": "python",
   "nbconvert_exporter": "python",
   "pygments_lexer": "ipython3",
   "version": "3.7.3"
  }
 },
 "nbformat": 4,
 "nbformat_minor": 2
}
