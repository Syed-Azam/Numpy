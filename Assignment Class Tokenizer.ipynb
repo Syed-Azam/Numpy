{
 "cells": [
  {
   "cell_type": "code",
   "execution_count": 1,
   "metadata": {},
   "outputs": [],
   "source": [
    "from nltk.tokenize import sent_tokenize"
   ]
  },
  {
   "cell_type": "code",
   "execution_count": 2,
   "metadata": {},
   "outputs": [],
   "source": [
    "parag = \"Forever alone in a crowd, failed comedian Arthur Fleck seeks connection as he walks the streets of Gotham City. Arthur wears two masks -- the one he paints for his day job as a clown, and the guise he projects in a futile attempt to feel like he's part of the world around him. Isolated, bullied and disregarded by society, Fleck begins a slow descent into madness as he transforms into the criminal mastermind known as the Joker.\"\n"
   ]
  },
  {
   "cell_type": "code",
   "execution_count": 3,
   "metadata": {},
   "outputs": [
    {
     "data": {
      "text/plain": [
       "['Forever alone in a crowd, failed comedian Arthur Fleck seeks connection as he walks the streets of Gotham City.',\n",
       " \"Arthur wears two masks -- the one he paints for his day job as a clown, and the guise he projects in a futile attempt to feel like he's part of the world around him.\",\n",
       " 'Isolated, bullied and disregarded by society, Fleck begins a slow descent into madness as he transforms into the criminal mastermind known as the Joker.']"
      ]
     },
     "execution_count": 3,
     "metadata": {},
     "output_type": "execute_result"
    }
   ],
   "source": [
    "sent_tokenize(parag)"
   ]
  },
  {
   "cell_type": "code",
   "execution_count": 4,
   "metadata": {},
   "outputs": [],
   "source": [
    "myArr = sent_tokenize(parag)"
   ]
  },
  {
   "cell_type": "code",
   "execution_count": 5,
   "metadata": {},
   "outputs": [
    {
     "data": {
      "text/plain": [
       "'Forever alone in a crowd, failed comedian Arthur Fleck seeks connection as he walks the streets of Gotham City.'"
      ]
     },
     "execution_count": 5,
     "metadata": {},
     "output_type": "execute_result"
    }
   ],
   "source": [
    "myArr[0]"
   ]
  },
  {
   "cell_type": "code",
   "execution_count": 6,
   "metadata": {},
   "outputs": [
    {
     "data": {
      "text/plain": [
       "\"Arthur wears two masks -- the one he paints for his day job as a clown, and the guise he projects in a futile attempt to feel like he's part of the world around him.\""
      ]
     },
     "execution_count": 6,
     "metadata": {},
     "output_type": "execute_result"
    }
   ],
   "source": [
    "myArr[1]"
   ]
  },
  {
   "cell_type": "code",
   "execution_count": 7,
   "metadata": {},
   "outputs": [],
   "source": [
    "import nltk.data"
   ]
  },
  {
   "cell_type": "code",
   "execution_count": 8,
   "metadata": {},
   "outputs": [],
   "source": [
    "tokenizer = nltk.data.load('tokenizers/punkt/english.pickle')"
   ]
  },
  {
   "cell_type": "code",
   "execution_count": 9,
   "metadata": {},
   "outputs": [],
   "source": [
    "joker = \"Forever alone in a crowd, failed comedian Arthur Fleck seeks connection as he walks the streets of Gotham City. Arthur wears two masks -- the one he paints for his day job as a clown, and the guise he projects in a futile attempt to feel like he's part of the world around him. Isolated, bullied and disregarded by society, Fleck begins a slow descent into madness as he transforms into the criminal mastermind known as the Joker.\""
   ]
  },
  {
   "cell_type": "code",
   "execution_count": 10,
   "metadata": {},
   "outputs": [
    {
     "data": {
      "text/plain": [
       "['Forever alone in a crowd, failed comedian Arthur Fleck seeks connection as he walks the streets of Gotham City.',\n",
       " \"Arthur wears two masks -- the one he paints for his day job as a clown, and the guise he projects in a futile attempt to feel like he's part of the world around him.\",\n",
       " 'Isolated, bullied and disregarded by society, Fleck begins a slow descent into madness as he transforms into the criminal mastermind known as the Joker.']"
      ]
     },
     "execution_count": 10,
     "metadata": {},
     "output_type": "execute_result"
    }
   ],
   "source": [
    "tokenizer.tokenize(joker)"
   ]
  },
  {
   "cell_type": "code",
   "execution_count": 11,
   "metadata": {},
   "outputs": [],
   "source": [
    "#WOrd Tokenizer"
   ]
  },
  {
   "cell_type": "code",
   "execution_count": 12,
   "metadata": {},
   "outputs": [],
   "source": [
    "from nltk.tokenize import word_tokenize"
   ]
  },
  {
   "cell_type": "code",
   "execution_count": 13,
   "metadata": {},
   "outputs": [
    {
     "data": {
      "text/plain": [
       "['Forever',\n",
       " 'alone',\n",
       " 'in',\n",
       " 'a',\n",
       " 'crowd',\n",
       " ',',\n",
       " 'failed',\n",
       " 'comedian',\n",
       " 'Arthur',\n",
       " 'Fleck',\n",
       " 'seeks',\n",
       " 'connection',\n",
       " 'as',\n",
       " 'he',\n",
       " 'walks',\n",
       " 'the',\n",
       " 'streets',\n",
       " 'of',\n",
       " 'Gotham',\n",
       " 'City',\n",
       " '.',\n",
       " 'Arthur',\n",
       " 'wears',\n",
       " 'two',\n",
       " 'masks',\n",
       " '--',\n",
       " 'the',\n",
       " 'one',\n",
       " 'he',\n",
       " 'paints',\n",
       " 'for',\n",
       " 'his',\n",
       " 'day',\n",
       " 'job',\n",
       " 'as',\n",
       " 'a',\n",
       " 'clown',\n",
       " ',',\n",
       " 'and',\n",
       " 'the',\n",
       " 'guise',\n",
       " 'he',\n",
       " 'projects',\n",
       " 'in',\n",
       " 'a',\n",
       " 'futile',\n",
       " 'attempt',\n",
       " 'to',\n",
       " 'feel',\n",
       " 'like',\n",
       " 'he',\n",
       " \"'s\",\n",
       " 'part',\n",
       " 'of',\n",
       " 'the',\n",
       " 'world',\n",
       " 'around',\n",
       " 'him',\n",
       " '.',\n",
       " 'Isolated',\n",
       " ',',\n",
       " 'bullied',\n",
       " 'and',\n",
       " 'disregarded',\n",
       " 'by',\n",
       " 'society',\n",
       " ',',\n",
       " 'Fleck',\n",
       " 'begins',\n",
       " 'a',\n",
       " 'slow',\n",
       " 'descent',\n",
       " 'into',\n",
       " 'madness',\n",
       " 'as',\n",
       " 'he',\n",
       " 'transforms',\n",
       " 'into',\n",
       " 'the',\n",
       " 'criminal',\n",
       " 'mastermind',\n",
       " 'known',\n",
       " 'as',\n",
       " 'the',\n",
       " 'Joker',\n",
       " '.']"
      ]
     },
     "execution_count": 13,
     "metadata": {},
     "output_type": "execute_result"
    }
   ],
   "source": [
    "kite = \"Forever alone in a crowd, failed comedian Arthur Fleck seeks connection as he walks the streets of Gotham City. Arthur wears two masks -- the one he paints for his day job as a clown, and the guise he projects in a futile attempt to feel like he's part of the world around him. Isolated, bullied and disregarded by society, Fleck begins a slow descent into madness as he transforms into the criminal mastermind known as the Joker.\"\n",
    "word_tokenize(kite)"
   ]
  },
  {
   "cell_type": "code",
   "execution_count": 14,
   "metadata": {},
   "outputs": [],
   "source": [
    "myArr1 = word_tokenize(kite)\n"
   ]
  },
  {
   "cell_type": "code",
   "execution_count": 16,
   "metadata": {},
   "outputs": [
    {
     "data": {
      "text/plain": [
       "'alone'"
      ]
     },
     "execution_count": 16,
     "metadata": {},
     "output_type": "execute_result"
    }
   ],
   "source": [
    "myArr1[1]"
   ]
  },
  {
   "cell_type": "code",
   "execution_count": 17,
   "metadata": {},
   "outputs": [],
   "source": [
    "from nltk.tokenize import word_tokenize"
   ]
  },
  {
   "cell_type": "code",
   "execution_count": 18,
   "metadata": {},
   "outputs": [],
   "source": [
    "from nltk.tokenize import TreebankWordTokenizer"
   ]
  },
  {
   "cell_type": "code",
   "execution_count": 21,
   "metadata": {},
   "outputs": [],
   "source": [
    "tk = TreebankWordTokenizer()\n",
    "from nltk.tokenize import WordPunctTokenizer"
   ]
  },
  {
   "cell_type": "code",
   "execution_count": 22,
   "metadata": {},
   "outputs": [],
   "source": [
    "tk1 = WordPunctTokenizer()"
   ]
  },
  {
   "cell_type": "code",
   "execution_count": 28,
   "metadata": {},
   "outputs": [
    {
     "data": {
      "text/plain": [
       "['Forever',\n",
       " 'alone',\n",
       " 'in',\n",
       " 'a',\n",
       " 'crowd',\n",
       " ',',\n",
       " 'failed',\n",
       " 'comedian',\n",
       " 'Arthur',\n",
       " 'Fleck',\n",
       " 'seeks',\n",
       " 'connection',\n",
       " 'as',\n",
       " 'he',\n",
       " 'walks',\n",
       " 'the',\n",
       " 'streets',\n",
       " 'of',\n",
       " 'Gotham',\n",
       " 'City.',\n",
       " 'Arthur',\n",
       " 'wears',\n",
       " 'two',\n",
       " 'masks',\n",
       " '--',\n",
       " 'the',\n",
       " 'one',\n",
       " 'he',\n",
       " 'paints',\n",
       " 'for',\n",
       " 'his',\n",
       " 'day',\n",
       " 'job',\n",
       " 'as',\n",
       " 'a',\n",
       " 'clown',\n",
       " ',',\n",
       " 'and',\n",
       " 'the',\n",
       " 'guise',\n",
       " 'he',\n",
       " 'projects',\n",
       " 'in',\n",
       " 'a',\n",
       " 'futile',\n",
       " 'attempt',\n",
       " 'to',\n",
       " 'feel',\n",
       " 'like',\n",
       " 'he',\n",
       " \"'s\",\n",
       " 'part',\n",
       " 'of',\n",
       " 'the',\n",
       " 'world',\n",
       " 'around',\n",
       " 'him.',\n",
       " 'Isolated',\n",
       " ',',\n",
       " 'bullied',\n",
       " 'and',\n",
       " 'disregarded',\n",
       " 'by',\n",
       " 'society',\n",
       " ',',\n",
       " 'Fleck',\n",
       " 'begins',\n",
       " 'a',\n",
       " 'slow',\n",
       " 'descent',\n",
       " 'into',\n",
       " 'madness',\n",
       " 'as',\n",
       " 'he',\n",
       " 'transforms',\n",
       " 'into',\n",
       " 'the',\n",
       " 'criminal',\n",
       " 'mastermind',\n",
       " 'known',\n",
       " 'as',\n",
       " 'the',\n",
       " 'Joker',\n",
       " '.']"
      ]
     },
     "execution_count": 28,
     "metadata": {},
     "output_type": "execute_result"
    }
   ],
   "source": [
    "tk.tokenize(kite) # or TreebankWordTokenizer().tokenize(kite) also could be used"
   ]
  },
  {
   "cell_type": "code",
   "execution_count": 29,
   "metadata": {},
   "outputs": [
    {
     "data": {
      "text/plain": [
       "['Forever',\n",
       " 'alone',\n",
       " 'in',\n",
       " 'a',\n",
       " 'crowd',\n",
       " ',',\n",
       " 'failed',\n",
       " 'comedian',\n",
       " 'Arthur',\n",
       " 'Fleck',\n",
       " 'seeks',\n",
       " 'connection',\n",
       " 'as',\n",
       " 'he',\n",
       " 'walks',\n",
       " 'the',\n",
       " 'streets',\n",
       " 'of',\n",
       " 'Gotham',\n",
       " 'City',\n",
       " '.',\n",
       " 'Arthur',\n",
       " 'wears',\n",
       " 'two',\n",
       " 'masks',\n",
       " '--',\n",
       " 'the',\n",
       " 'one',\n",
       " 'he',\n",
       " 'paints',\n",
       " 'for',\n",
       " 'his',\n",
       " 'day',\n",
       " 'job',\n",
       " 'as',\n",
       " 'a',\n",
       " 'clown',\n",
       " ',',\n",
       " 'and',\n",
       " 'the',\n",
       " 'guise',\n",
       " 'he',\n",
       " 'projects',\n",
       " 'in',\n",
       " 'a',\n",
       " 'futile',\n",
       " 'attempt',\n",
       " 'to',\n",
       " 'feel',\n",
       " 'like',\n",
       " 'he',\n",
       " \"'\",\n",
       " 's',\n",
       " 'part',\n",
       " 'of',\n",
       " 'the',\n",
       " 'world',\n",
       " 'around',\n",
       " 'him',\n",
       " '.',\n",
       " 'Isolated',\n",
       " ',',\n",
       " 'bullied',\n",
       " 'and',\n",
       " 'disregarded',\n",
       " 'by',\n",
       " 'society',\n",
       " ',',\n",
       " 'Fleck',\n",
       " 'begins',\n",
       " 'a',\n",
       " 'slow',\n",
       " 'descent',\n",
       " 'into',\n",
       " 'madness',\n",
       " 'as',\n",
       " 'he',\n",
       " 'transforms',\n",
       " 'into',\n",
       " 'the',\n",
       " 'criminal',\n",
       " 'mastermind',\n",
       " 'known',\n",
       " 'as',\n",
       " 'the',\n",
       " 'Joker',\n",
       " '.']"
      ]
     },
     "execution_count": 29,
     "metadata": {},
     "output_type": "execute_result"
    }
   ],
   "source": [
    "tk1.tokenize(kite)"
   ]
  },
  {
   "cell_type": "code",
   "execution_count": 34,
   "metadata": {},
   "outputs": [
    {
     "data": {
      "text/plain": [
       "['I',\n",
       " 'wo',\n",
       " \"n't\",\n",
       " 'let',\n",
       " 'you',\n",
       " 'do',\n",
       " 'what',\n",
       " 'came',\n",
       " 'here',\n",
       " 'to',\n",
       " 'do',\n",
       " 'so',\n",
       " 'you',\n",
       " 'sha',\n",
       " \"n't\",\n",
       " 'do',\n",
       " 'that']"
      ]
     },
     "execution_count": 34,
     "metadata": {},
     "output_type": "execute_result"
    }
   ],
   "source": [
    "too = \"I won't let you do what came here to do so you shan't do that\"\n",
    "\n",
    "tk.tokenize(too)"
   ]
  },
  {
   "cell_type": "code",
   "execution_count": 35,
   "metadata": {},
   "outputs": [
    {
     "data": {
      "text/plain": [
       "['I',\n",
       " 'won',\n",
       " \"'\",\n",
       " 't',\n",
       " 'let',\n",
       " 'you',\n",
       " 'do',\n",
       " 'what',\n",
       " 'came',\n",
       " 'here',\n",
       " 'to',\n",
       " 'do',\n",
       " 'so',\n",
       " 'you',\n",
       " 'shan',\n",
       " \"'\",\n",
       " 't',\n",
       " 'do',\n",
       " 'that']"
      ]
     },
     "execution_count": 35,
     "metadata": {},
     "output_type": "execute_result"
    }
   ],
   "source": [
    "tk1.tokenize(too)"
   ]
  },
  {
   "cell_type": "markdown",
   "metadata": {},
   "source": [
    "# Extra RegExp tokenizer"
   ]
  },
  {
   "cell_type": "code",
   "execution_count": 36,
   "metadata": {},
   "outputs": [],
   "source": [
    "from nltk.tokenize import regexp_tokenize"
   ]
  },
  {
   "cell_type": "code",
   "execution_count": 37,
   "metadata": {},
   "outputs": [],
   "source": [
    "too = \"I won't let you do what came here to do so you shan't do that, we wont let you do it\""
   ]
  },
  {
   "cell_type": "code",
   "execution_count": 48,
   "metadata": {},
   "outputs": [
    {
     "data": {
      "text/plain": [
       "['I',\n",
       " 'wo',\n",
       " \"n't\",\n",
       " 'let',\n",
       " 'you',\n",
       " 'do',\n",
       " 'what',\n",
       " 'came',\n",
       " 'here',\n",
       " 'to',\n",
       " 'do',\n",
       " 'so',\n",
       " 'you',\n",
       " 'sha',\n",
       " \"n't\",\n",
       " 'do',\n",
       " 'that',\n",
       " ',',\n",
       " 'we',\n",
       " 'wont',\n",
       " 'let',\n",
       " 'you',\n",
       " 'do',\n",
       " 'it']"
      ]
     },
     "execution_count": 48,
     "metadata": {},
     "output_type": "execute_result"
    }
   ],
   "source": [
    "from nltk.tokenize import word_tokenize    #it is storing won't as a different word but if we want to store won't as a single word we use regexp_tokenize\n",
    "word_tokenize(too)"
   ]
  },
  {
   "cell_type": "code",
   "execution_count": 49,
   "metadata": {},
   "outputs": [
    {
     "data": {
      "text/plain": [
       "['I',\n",
       " \"won't\",\n",
       " 'let',\n",
       " 'you',\n",
       " 'do',\n",
       " 'what',\n",
       " 'came',\n",
       " 'here',\n",
       " 'to',\n",
       " 'do',\n",
       " 'so',\n",
       " 'you',\n",
       " \"shan't\",\n",
       " 'do',\n",
       " 'that',\n",
       " 'we',\n",
       " 'wont',\n",
       " 'let',\n",
       " 'you',\n",
       " 'do',\n",
       " 'it']"
      ]
     },
     "execution_count": 49,
     "metadata": {},
     "output_type": "execute_result"
    }
   ],
   "source": [
    "regexp_tokenize(too, \"[\\w']+\")     # Now it is using won't as a single word above it was using won't as a different word\n",
    "                                   #also \"[\\w']\" it will separate words including wont as a singular word if we dont use ' then it will not"
   ]
  },
  {
   "cell_type": "markdown",
   "metadata": {},
   "source": [
    "##Extra"
   ]
  },
  {
   "cell_type": "code",
   "execution_count": 63,
   "metadata": {},
   "outputs": [
    {
     "data": {
      "text/plain": [
       "['I',\n",
       " \"won't\",\n",
       " 'let',\n",
       " 'you',\n",
       " 'do',\n",
       " 'what',\n",
       " 'came',\n",
       " 'here',\n",
       " 'to',\n",
       " 'do',\n",
       " 'so',\n",
       " 'you',\n",
       " \"shan't\",\n",
       " 'do',\n",
       " 'that',\n",
       " 'we',\n",
       " 'wont',\n",
       " 'let',\n",
       " 'you',\n",
       " 'do',\n",
       " 'it']"
      ]
     },
     "execution_count": 63,
     "metadata": {},
     "output_type": "execute_result"
    }
   ],
   "source": [
    "from nltk.tokenize import RegexpTokenizer\n",
    "reg = RegexpTokenizer(\"[\\w']+\")           #it Also can be done like this\n",
    "reg.tokenize(too)\n",
    "\n"
   ]
  },
  {
   "cell_type": "code",
   "execution_count": null,
   "metadata": {},
   "outputs": [],
   "source": []
  }
 ],
 "metadata": {
  "kernelspec": {
   "display_name": "Python 3",
   "language": "python",
   "name": "python3"
  },
  "language_info": {
   "codemirror_mode": {
    "name": "ipython",
    "version": 3
   },
   "file_extension": ".py",
   "mimetype": "text/x-python",
   "name": "python",
   "nbconvert_exporter": "python",
   "pygments_lexer": "ipython3",
   "version": "3.7.3"
  }
 },
 "nbformat": 4,
 "nbformat_minor": 2
}
