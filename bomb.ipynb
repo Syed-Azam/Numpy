{
 "cells": [
  {
   "cell_type": "code",
   "execution_count": 68,
   "metadata": {},
   "outputs": [
    {
     "name": "stdout",
     "output_type": "stream",
     "text": [
      "[['civ' 'civ' 'civ' 'civ' 'civ' 'civ' 'nan' 'nan' 'nan']\n",
      " ['civ' 'civ' 'civ' 'civ' 'civ' 'civ' 'nan' 'bom' 'nan']\n",
      " ['civ' 'civ' 'civ' 'civ' 'civ' 'civ' 'nan' 'nan' 'nan']\n",
      " ['civ' 'civ' 'nan' 'nan' 'nan' 'civ' 'civ' 'civ' 'civ']\n",
      " ['civ' 'civ' 'nan' 'bom' 'nan' 'civ' 'civ' 'civ' 'civ']\n",
      " ['civ' 'civ' 'nan' 'nan' 'nan' 'civ' 'civ' 'civ' 'civ']\n",
      " ['civ' 'civ' 'civ' 'civ' 'civ' 'civ' 'nan' 'nan' 'nan']\n",
      " ['civ' 'civ' 'civ' 'civ' 'civ' 'civ' 'nan' 'bom' 'nan']\n",
      " ['civ' 'civ' 'civ' 'civ' 'civ' 'civ' 'nan' 'nan' 'nan']]\n"
     ]
    }
   ],
   "source": [
    "import numpy as np\n",
    "\n",
    "a = np.full((9, 9), \"civ\")\n",
    "a[1,7] = a[4,3] = a[7,7] = \"bom\"\n",
    "\n",
    "b = np.where(a == \"bom\")\n",
    "\n",
    "for c in range(len(b[0])):\n",
    "    i, j = b[0][c], b[1][c]\n",
    "    a[i-1 if i>0 else i:i+2,j-1 if j>0 else j:j+2][a[i-1 if i>0 else i:i+2,j-1 if j>0 else j:j+2]!=\"bom\"] = np.NAN\n",
    "\n",
    "print(a)\n"
   ]
  },
  {
   "cell_type": "code",
   "execution_count": null,
   "metadata": {},
   "outputs": [],
   "source": []
  },
  {
   "cell_type": "code",
   "execution_count": null,
   "metadata": {},
   "outputs": [],
   "source": []
  },
  {
   "cell_type": "code",
   "execution_count": null,
   "metadata": {},
   "outputs": [],
   "source": []
  }
 ],
 "metadata": {
  "kernelspec": {
   "display_name": "Python 3",
   "language": "python",
   "name": "python3"
  },
  "language_info": {
   "codemirror_mode": {
    "name": "ipython",
    "version": 3
   },
   "file_extension": ".py",
   "mimetype": "text/x-python",
   "name": "python",
   "nbconvert_exporter": "python",
   "pygments_lexer": "ipython3",
   "version": "3.7.3"
  }
 },
 "nbformat": 4,
 "nbformat_minor": 2
}
