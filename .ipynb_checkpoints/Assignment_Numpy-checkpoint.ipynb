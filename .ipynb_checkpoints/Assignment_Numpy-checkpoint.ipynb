{
 "cells": [
  {
   "cell_type": "code",
   "execution_count": 19,
   "metadata": {},
   "outputs": [
    {
     "name": "stdout",
     "output_type": "stream",
     "text": [
      "(20, 200, 200, 3)\n"
     ]
    }
   ],
   "source": [
    "# PIAIC Assignment - Images to Numpy Conversion\n",
    "# Teacher : Anees Ahmed\n",
    "# Name : Syed Azam Hassan\n",
    "# Roll Numer : AIC003353, Ai Batch 1, Karachi. \n",
    "\n",
    "# create a main function\n",
    "def main():\n",
    "\n",
    "    #import libraries\n",
    "    import numpy as np\n",
    "    from PIL import Image\n",
    "    from os import walk, path\n",
    "    from sys import exit\n",
    "\n",
    "    # declare a variable for image directories\n",
    "    folder = \"photos\"\n",
    "\n",
    "    # folder name must be photos (Exception Handling)\n",
    "    try:\n",
    "        images_dir = list(walk(folder))[0][-1]\n",
    "    except:\n",
    "        print('Folder: \"' + folder + '\" not exist. Quitting.')\n",
    "        return\n",
    "\n",
    "    # filter only jpg, jpeg and png files\n",
    "    images_dir = [f for f in images_dir if f[-3:] == \"jpg\" or f[-4:] == 'jpeg' or f[-3:] == \"png\"]\n",
    "\n",
    "    # find number of files\n",
    "    no_of_files = len(images_dir)\n",
    "\n",
    "    # create numpy array with (no of files, 200, 200, 3)\n",
    "    a = np.empty((no_of_files , 200, 200, 3))\n",
    "\n",
    "    # resize & convert and save images to numpy array\n",
    "    for pic_no, pic_name in enumerate(images_dir):\n",
    "        i = Image.open(folder + \"\\\\\" + pic_name).resize((200,200)).convert(\"RGB\")\n",
    "        a[pic_no] = np.array(i)\n",
    "\n",
    "    # the main function will return numpy array\n",
    "    return a\n",
    "    \n",
    "if __name__ == \"__main__\":\n",
    "    # Run the main function\n",
    "    main()\n",
    "    \n",
    "    "
   ]
  },
  {
   "cell_type": "code",
   "execution_count": null,
   "metadata": {},
   "outputs": [],
   "source": []
  },
  {
   "cell_type": "code",
   "execution_count": null,
   "metadata": {},
   "outputs": [],
   "source": []
  },
  {
   "cell_type": "code",
   "execution_count": null,
   "metadata": {},
   "outputs": [],
   "source": []
  }
 ],
 "metadata": {
  "kernelspec": {
   "display_name": "Python 3",
   "language": "python",
   "name": "python3"
  },
  "language_info": {
   "codemirror_mode": {
    "name": "ipython",
    "version": 3
   },
   "file_extension": ".py",
   "mimetype": "text/x-python",
   "name": "python",
   "nbconvert_exporter": "python",
   "pygments_lexer": "ipython3",
   "version": "3.7.3"
  }
 },
 "nbformat": 4,
 "nbformat_minor": 2
}
